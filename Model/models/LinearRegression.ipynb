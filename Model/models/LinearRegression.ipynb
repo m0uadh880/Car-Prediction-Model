{
 "cells": [
  {
   "cell_type": "code",
   "execution_count": 69,
   "metadata": {},
   "outputs": [],
   "source": [
    "import pandas as pd\n",
    "from sklearn.compose import ColumnTransformer\n",
    "from sklearn.preprocessing import OneHotEncoder\n",
    "import numpy as np\n",
    "import matplotlib.pyplot as plt\n",
    "data = pd.read_csv(\"../../Model/cleaned_dataset.csv\")\n",
    "backup_data = pd.read_csv(\"../../Model/cleaned_dataset.csv\")"
   ]
  },
  {
   "cell_type": "code",
   "execution_count": 70,
   "metadata": {},
   "outputs": [
    {
     "data": {
      "text/html": [
       "<div>\n",
       "<style scoped>\n",
       "    .dataframe tbody tr th:only-of-type {\n",
       "        vertical-align: middle;\n",
       "    }\n",
       "\n",
       "    .dataframe tbody tr th {\n",
       "        vertical-align: top;\n",
       "    }\n",
       "\n",
       "    .dataframe thead th {\n",
       "        text-align: right;\n",
       "    }\n",
       "</style>\n",
       "<table border=\"1\" class=\"dataframe\">\n",
       "  <thead>\n",
       "    <tr style=\"text-align: right;\">\n",
       "      <th></th>\n",
       "      <th>Price</th>\n",
       "      <th>Manufacturer</th>\n",
       "      <th>Model</th>\n",
       "      <th>Horse Power</th>\n",
       "      <th>Mileage</th>\n",
       "      <th>Transmission</th>\n",
       "      <th>Fuel</th>\n",
       "      <th>Posting Month</th>\n",
       "      <th>Posting Year</th>\n",
       "      <th>Age</th>\n",
       "      <th>country_of_origin</th>\n",
       "      <th>price_per_km</th>\n",
       "      <th>price_per_horsepower</th>\n",
       "    </tr>\n",
       "  </thead>\n",
       "  <tbody>\n",
       "    <tr>\n",
       "      <th>0</th>\n",
       "      <td>75000.0</td>\n",
       "      <td>INFINITI</td>\n",
       "      <td>EX35</td>\n",
       "      <td>20.0</td>\n",
       "      <td>143000.0</td>\n",
       "      <td>Automatic</td>\n",
       "      <td>Essence</td>\n",
       "      <td>November</td>\n",
       "      <td>2023</td>\n",
       "      <td>15</td>\n",
       "      <td>Japan</td>\n",
       "      <td>0.524476</td>\n",
       "      <td>3750.000000</td>\n",
       "    </tr>\n",
       "    <tr>\n",
       "      <th>1</th>\n",
       "      <td>69000.0</td>\n",
       "      <td>IVECO</td>\n",
       "      <td>DAILY</td>\n",
       "      <td>11.0</td>\n",
       "      <td>87000.0</td>\n",
       "      <td>Manual</td>\n",
       "      <td>Diesel</td>\n",
       "      <td>November</td>\n",
       "      <td>2023</td>\n",
       "      <td>8</td>\n",
       "      <td>Italy</td>\n",
       "      <td>0.793103</td>\n",
       "      <td>6272.727273</td>\n",
       "    </tr>\n",
       "    <tr>\n",
       "      <th>2</th>\n",
       "      <td>62000.0</td>\n",
       "      <td>VOLVO</td>\n",
       "      <td>XC60</td>\n",
       "      <td>13.0</td>\n",
       "      <td>190000.0</td>\n",
       "      <td>Automatic</td>\n",
       "      <td>Essence</td>\n",
       "      <td>November</td>\n",
       "      <td>2023</td>\n",
       "      <td>13</td>\n",
       "      <td>Sweden</td>\n",
       "      <td>0.326316</td>\n",
       "      <td>4769.230769</td>\n",
       "    </tr>\n",
       "    <tr>\n",
       "      <th>3</th>\n",
       "      <td>69000.0</td>\n",
       "      <td>AC</td>\n",
       "      <td>SEVEN</td>\n",
       "      <td>7.0</td>\n",
       "      <td>59000.0</td>\n",
       "      <td>Automatic</td>\n",
       "      <td>Essence</td>\n",
       "      <td>November</td>\n",
       "      <td>2023</td>\n",
       "      <td>4</td>\n",
       "      <td>United Kingdom</td>\n",
       "      <td>1.169492</td>\n",
       "      <td>9857.142857</td>\n",
       "    </tr>\n",
       "    <tr>\n",
       "      <th>4</th>\n",
       "      <td>29000.0</td>\n",
       "      <td>LANCIA</td>\n",
       "      <td>YPSILON</td>\n",
       "      <td>4.0</td>\n",
       "      <td>125000.0</td>\n",
       "      <td>Manual</td>\n",
       "      <td>Essence</td>\n",
       "      <td>November</td>\n",
       "      <td>2023</td>\n",
       "      <td>10</td>\n",
       "      <td>Italy</td>\n",
       "      <td>0.232000</td>\n",
       "      <td>7250.000000</td>\n",
       "    </tr>\n",
       "    <tr>\n",
       "      <th>...</th>\n",
       "      <td>...</td>\n",
       "      <td>...</td>\n",
       "      <td>...</td>\n",
       "      <td>...</td>\n",
       "      <td>...</td>\n",
       "      <td>...</td>\n",
       "      <td>...</td>\n",
       "      <td>...</td>\n",
       "      <td>...</td>\n",
       "      <td>...</td>\n",
       "      <td>...</td>\n",
       "      <td>...</td>\n",
       "      <td>...</td>\n",
       "    </tr>\n",
       "    <tr>\n",
       "      <th>5123</th>\n",
       "      <td>250000.0</td>\n",
       "      <td>MERCEDES</td>\n",
       "      <td>E BUSINESS</td>\n",
       "      <td>9.0</td>\n",
       "      <td>7000.0</td>\n",
       "      <td>Automatic</td>\n",
       "      <td>Essence</td>\n",
       "      <td>January</td>\n",
       "      <td>2024</td>\n",
       "      <td>1</td>\n",
       "      <td>Germany</td>\n",
       "      <td>35.714286</td>\n",
       "      <td>27777.777778</td>\n",
       "    </tr>\n",
       "    <tr>\n",
       "      <th>5124</th>\n",
       "      <td>175000.0</td>\n",
       "      <td>MERCEDES</td>\n",
       "      <td>GLA AMG</td>\n",
       "      <td>8.0</td>\n",
       "      <td>25000.0</td>\n",
       "      <td>Automatic</td>\n",
       "      <td>Essence</td>\n",
       "      <td>January</td>\n",
       "      <td>2024</td>\n",
       "      <td>3</td>\n",
       "      <td>Germany</td>\n",
       "      <td>7.000000</td>\n",
       "      <td>21875.000000</td>\n",
       "    </tr>\n",
       "    <tr>\n",
       "      <th>5125</th>\n",
       "      <td>78000.0</td>\n",
       "      <td>MERCEDES</td>\n",
       "      <td>CLA 180</td>\n",
       "      <td>7.0</td>\n",
       "      <td>93000.0</td>\n",
       "      <td>Automatic</td>\n",
       "      <td>Essence</td>\n",
       "      <td>January</td>\n",
       "      <td>2024</td>\n",
       "      <td>10</td>\n",
       "      <td>Germany</td>\n",
       "      <td>0.838710</td>\n",
       "      <td>11142.857143</td>\n",
       "    </tr>\n",
       "    <tr>\n",
       "      <th>5126</th>\n",
       "      <td>68000.0</td>\n",
       "      <td>MERCEDES</td>\n",
       "      <td>A</td>\n",
       "      <td>6.0</td>\n",
       "      <td>184600.0</td>\n",
       "      <td>Automatic</td>\n",
       "      <td>Essence</td>\n",
       "      <td>January</td>\n",
       "      <td>2024</td>\n",
       "      <td>9</td>\n",
       "      <td>Germany</td>\n",
       "      <td>0.368364</td>\n",
       "      <td>11333.333333</td>\n",
       "    </tr>\n",
       "    <tr>\n",
       "      <th>5127</th>\n",
       "      <td>78000.0</td>\n",
       "      <td>MERCEDES</td>\n",
       "      <td>A</td>\n",
       "      <td>6.0</td>\n",
       "      <td>112000.0</td>\n",
       "      <td>Manual</td>\n",
       "      <td>Essence</td>\n",
       "      <td>February</td>\n",
       "      <td>2024</td>\n",
       "      <td>10</td>\n",
       "      <td>Germany</td>\n",
       "      <td>0.696429</td>\n",
       "      <td>13000.000000</td>\n",
       "    </tr>\n",
       "  </tbody>\n",
       "</table>\n",
       "<p>5128 rows × 13 columns</p>\n",
       "</div>"
      ],
      "text/plain": [
       "         Price Manufacturer       Model  Horse Power   Mileage Transmission  \\\n",
       "0      75000.0     INFINITI        EX35         20.0  143000.0    Automatic   \n",
       "1      69000.0        IVECO       DAILY         11.0   87000.0       Manual   \n",
       "2      62000.0        VOLVO        XC60         13.0  190000.0    Automatic   \n",
       "3      69000.0           AC       SEVEN          7.0   59000.0    Automatic   \n",
       "4      29000.0       LANCIA     YPSILON          4.0  125000.0       Manual   \n",
       "...        ...          ...         ...          ...       ...          ...   \n",
       "5123  250000.0     MERCEDES  E BUSINESS          9.0    7000.0    Automatic   \n",
       "5124  175000.0     MERCEDES     GLA AMG          8.0   25000.0    Automatic   \n",
       "5125   78000.0     MERCEDES     CLA 180          7.0   93000.0    Automatic   \n",
       "5126   68000.0     MERCEDES           A          6.0  184600.0    Automatic   \n",
       "5127   78000.0     MERCEDES           A          6.0  112000.0       Manual   \n",
       "\n",
       "         Fuel Posting Month  Posting Year  Age country_of_origin  \\\n",
       "0     Essence      November          2023   15             Japan   \n",
       "1      Diesel      November          2023    8             Italy   \n",
       "2     Essence      November          2023   13            Sweden   \n",
       "3     Essence      November          2023    4    United Kingdom   \n",
       "4     Essence      November          2023   10             Italy   \n",
       "...       ...           ...           ...  ...               ...   \n",
       "5123  Essence       January          2024    1           Germany   \n",
       "5124  Essence       January          2024    3           Germany   \n",
       "5125  Essence       January          2024   10           Germany   \n",
       "5126  Essence       January          2024    9           Germany   \n",
       "5127  Essence      February          2024   10           Germany   \n",
       "\n",
       "      price_per_km  price_per_horsepower  \n",
       "0         0.524476           3750.000000  \n",
       "1         0.793103           6272.727273  \n",
       "2         0.326316           4769.230769  \n",
       "3         1.169492           9857.142857  \n",
       "4         0.232000           7250.000000  \n",
       "...            ...                   ...  \n",
       "5123     35.714286          27777.777778  \n",
       "5124      7.000000          21875.000000  \n",
       "5125      0.838710          11142.857143  \n",
       "5126      0.368364          11333.333333  \n",
       "5127      0.696429          13000.000000  \n",
       "\n",
       "[5128 rows x 13 columns]"
      ]
     },
     "execution_count": 70,
     "metadata": {},
     "output_type": "execute_result"
    }
   ],
   "source": [
    "data"
   ]
  },
  {
   "cell_type": "code",
   "execution_count": 71,
   "metadata": {},
   "outputs": [],
   "source": [
    "data.drop(columns=['Posting Month'])\n",
    "X = data.drop(columns=['Price','Posting Month'])  \n",
    "y = data['Price']"
   ]
  },
  {
   "cell_type": "code",
   "execution_count": 72,
   "metadata": {},
   "outputs": [
    {
     "data": {
      "text/plain": [
       "((5128, 11), (5128,))"
      ]
     },
     "execution_count": 72,
     "metadata": {},
     "output_type": "execute_result"
    }
   ],
   "source": [
    "X.shape, y.shape"
   ]
  },
  {
   "cell_type": "code",
   "execution_count": 73,
   "metadata": {},
   "outputs": [],
   "source": [
    "categorical_columns = ['Manufacturer', 'Model', 'Transmission', 'Fuel', 'country_of_origin']\n",
    "numerical_columns = ['Horse Power', 'Mileage', 'Posting Year', 'Age', 'price_per_km', 'price_per_horsepower']"
   ]
  },
  {
   "cell_type": "code",
   "execution_count": 74,
   "metadata": {},
   "outputs": [],
   "source": [
    "ct = ColumnTransformer(\n",
    "    transformers=[\n",
    "        ('cat', OneHotEncoder(sparse_output=False), categorical_columns),  # Encode categorical features\n",
    "    ],\n",
    "    remainder='passthrough'  # Pass numerical features as-is\n",
    ")"
   ]
  },
  {
   "cell_type": "code",
   "execution_count": 75,
   "metadata": {},
   "outputs": [],
   "source": [
    "X_encoded = ct.fit_transform(X)"
   ]
  },
  {
   "cell_type": "code",
   "execution_count": 76,
   "metadata": {},
   "outputs": [],
   "source": [
    "encoded_feature_names = (\n",
    "    ct.named_transformers_['cat'].get_feature_names_out(categorical_columns).tolist()\n",
    "    + numerical_columns\n",
    ")\n",
    "X_encoded_df = pd.DataFrame(X_encoded, columns=encoded_feature_names)"
   ]
  },
  {
   "cell_type": "code",
   "execution_count": 77,
   "metadata": {},
   "outputs": [],
   "source": [
    "from sklearn.model_selection import train_test_split\n",
    "X_train, X_test, y_train, y_test = train_test_split(X_encoded, y, test_size = 0.2, random_state = 0)"
   ]
  },
  {
   "cell_type": "code",
   "execution_count": 78,
   "metadata": {},
   "outputs": [
    {
     "data": {
      "text/plain": [
       "((4102, 805), (1026, 805), (4102,), (1026,))"
      ]
     },
     "execution_count": 78,
     "metadata": {},
     "output_type": "execute_result"
    }
   ],
   "source": [
    "X_train.shape, X_test.shape, y_train.shape, y_test.shape"
   ]
  },
  {
   "cell_type": "markdown",
   "metadata": {},
   "source": [
    "------------------------------------------------------------------------------"
   ]
  },
  {
   "cell_type": "markdown",
   "metadata": {},
   "source": [
    "----------------------------------RL--------------------------------------------"
   ]
  },
  {
   "cell_type": "code",
   "execution_count": 79,
   "metadata": {},
   "outputs": [],
   "source": [
    "\n",
    "from sklearn.linear_model import LinearRegression\n",
    "regressor = LinearRegression()\n",
    "regressor.fit(X_train, y_train)\n",
    "\n",
    "y_pred = regressor.predict(X_test)"
   ]
  },
  {
   "cell_type": "code",
   "execution_count": 80,
   "metadata": {},
   "outputs": [
    {
     "data": {
      "text/plain": [
       "(1026,)"
      ]
     },
     "execution_count": 80,
     "metadata": {},
     "output_type": "execute_result"
    }
   ],
   "source": [
    "y_test.shape"
   ]
  },
  {
   "cell_type": "code",
   "execution_count": 81,
   "metadata": {},
   "outputs": [
    {
     "data": {
      "image/png": "[encoded data removed]",
      "text/plain": [
       "<Figure size 1000x600 with 1 Axes>"
      ]
     },
     "metadata": {},
     "output_type": "display_data"
    }
   ],
   "source": [
    "import matplotlib.pyplot as plt\n",
    "\n",
    "plt.figure(figsize=(10,6))\n",
    "plt.scatter(y_test, y_pred, alpha=0.2)  \n",
    "plt.xlabel('Target (y_train)') \n",
    "plt.ylabel('Predictions (y_pred)')\n",
    "plt.show()"
   ]
  },
  {
   "cell_type": "code",
   "execution_count": 82,
   "metadata": {},
   "outputs": [
    {
     "name": "stdout",
     "output_type": "stream",
     "text": [
      "MAE après suppression: 7885.266277576898\n",
      "MSE après suppression: 516594633.0332524\n",
      "R² après suppression: 0.8280062364623377\n"
     ]
    }
   ],
   "source": [
    "from sklearn.metrics import mean_absolute_error, mean_squared_error,r2_score\n",
    "\n",
    "\n",
    "mae_new = mean_absolute_error(y_test, y_pred)\n",
    "mse_new = mean_squared_error(y_test, y_pred)\n",
    "r2_new = r2_score(y_test, y_pred)\n",
    "\n",
    "print(f\"MAE après suppression: {mae_new}\")\n",
    "print(f\"MSE après suppression: {mse_new}\")\n",
    "print(f\"R² après suppression: {r2_new}\")"
   ]
  }
 ],
 "metadata": {
  "kernelspec": {
   "display_name": ".venv",
   "language": "python",
   "name": "python3"
  },
  "language_info": {
   "codemirror_mode": {
    "name": "ipython",
    "version": 3
   },
   "file_extension": ".py",
   "mimetype": "text/x-python",
   "name": "python",
   "nbconvert_exporter": "python",
   "pygments_lexer": "ipython3",
   "version": "3.12.0"
  }
 },
 "nbformat": 4,
 "nbformat_minor": 2
}

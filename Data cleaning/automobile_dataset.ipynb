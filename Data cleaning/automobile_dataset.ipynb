{
 "cells": [
  {
   "cell_type": "code",
   "execution_count": 4,
   "metadata": {
    "colab": {
     "base_uri": "https://localhost:8080/"
    },
    "executionInfo": {
     "elapsed": 4343,
     "status": "ok",
     "timestamp": 1734080932170,
     "user": {
      "displayName": "Ounissi Mouadh",
      "userId": "03272851073757140853"
     },
     "user_tz": -60
    },
    "id": "7sYP3N6CzHga",
    "outputId": "39c5f05b-bc67-4a19-a2e8-95922fa267f8"
   },
   "outputs": [],
   "source": [
    "import numpy as np\n",
    "import pandas as pd\n",
    "from datetime import datetime\n",
    "\n",
    "\n",
    "from sklearn.preprocessing import StandardScaler\n",
    "from sklearn.model_selection import train_test_split\n",
    "\n",
    "from sklearn.linear_model import LinearRegression\n",
    "import lightgbm as lgb\n",
    "\n",
    "from sklearn.metrics import mean_squared_error"
   ]
  },
  {
   "cell_type": "code",
   "execution_count": 18,
   "metadata": {
    "colab": {
     "base_uri": "https://localhost:8080/",
     "height": 193
    },
    "executionInfo": {
     "elapsed": 368,
     "status": "error",
     "timestamp": 1734080879641,
     "user": {
      "displayName": "Ounissi Mouadh",
      "userId": "03272851073757140853"
     },
     "user_tz": -60
    },
    "id": "tPnfXpa80QPS",
    "outputId": "c0d786a1-6bc9-40a4-f65f-b9c87b2aa37b"
   },
   "outputs": [],
   "source": [
    "data_automobile = pd.read_csv('../Data collection/initial_datasets/automobile_data.csv')\n",
    "backup_data = pd.read_csv(\"../Data collection/initial_datasets/automobile_data.csv\")"
   ]
  },
  {
   "cell_type": "code",
   "execution_count": 19,
   "metadata": {
    "colab": {
     "base_uri": "https://localhost:8080/"
    },
    "executionInfo": {
     "elapsed": 418,
     "status": "ok",
     "timestamp": 1733775262837,
     "user": {
      "displayName": "Ounissi Mouadh",
      "userId": "03272851073757140853"
     },
     "user_tz": -60
    },
    "id": "QTa_oaVn14VM",
    "outputId": "e0c1c10c-ff43-4935-887b-7dc035918966"
   },
   "outputs": [
    {
     "name": "stdout",
     "output_type": "stream",
     "text": [
      "<class 'pandas.core.frame.DataFrame'>\n",
      "RangeIndex: 1656 entries, 0 to 1655\n",
      "Data columns (total 16 columns):\n",
      " #   Column              Non-Null Count  Dtype \n",
      "---  ------              --------------  ----- \n",
      " 0   Titre               1656 non-null   object\n",
      " 1   Prix                1656 non-null   object\n",
      " 2   Fabricant           1656 non-null   object\n",
      " 3   Carrosserie         1656 non-null   object\n",
      " 4   Energie             1656 non-null   object\n",
      " 5   Puissance fiscale   1656 non-null   object\n",
      " 6   Boite               1656 non-null   object\n",
      " 7   Transmission        1656 non-null   object\n",
      " 8   Couleur             1656 non-null   object\n",
      " 9   Kilometrage         1656 non-null   object\n",
      " 10  Annee               1656 non-null   object\n",
      " 11  Gouvernorat         1656 non-null   object\n",
      " 12  Numero              1656 non-null   object\n",
      " 13  Inserée le          1656 non-null   object\n",
      " 14  Number of Pictures  1656 non-null   int64 \n",
      " 15  Description         1215 non-null   object\n",
      "dtypes: int64(1), object(15)\n",
      "memory usage: 207.1+ KB\n"
     ]
    }
   ],
   "source": [
    "data_automobile.info()"
   ]
  },
  {
   "cell_type": "code",
   "execution_count": 20,
   "metadata": {
    "colab": {
     "base_uri": "https://localhost:8080/",
     "height": 585
    },
    "executionInfo": {
     "elapsed": 450,
     "status": "ok",
     "timestamp": 1733775340723,
     "user": {
      "displayName": "Ounissi Mouadh",
      "userId": "03272851073757140853"
     },
     "user_tz": -60
    },
    "id": "GzSDNXFXD9gF",
    "outputId": "a2033356-ac74-4580-dcb9-6e7d76190c70"
   },
   "outputs": [
    {
     "data": {
      "text/plain": [
       "Titre                   0\n",
       "Prix                    0\n",
       "Fabricant               0\n",
       "Carrosserie             0\n",
       "Energie                 0\n",
       "Puissance fiscale       0\n",
       "Boite                   0\n",
       "Transmission            0\n",
       "Couleur                 0\n",
       "Kilometrage             0\n",
       "Annee                   0\n",
       "Gouvernorat             0\n",
       "Numero                  0\n",
       "Inserée le              0\n",
       "Number of Pictures      0\n",
       "Description           441\n",
       "dtype: int64"
      ]
     },
     "execution_count": 20,
     "metadata": {},
     "output_type": "execute_result"
    }
   ],
   "source": [
    "data_automobile.isna( ).sum()"
   ]
  },
  {
   "cell_type": "code",
   "execution_count": 21,
   "metadata": {
    "id": "XQo6NVjFD9ud"
   },
   "outputs": [],
   "source": [
    "null_columns = data_automobile.columns[data_automobile.isna().mean() > 0.25]\n",
    "data_automobile = data_automobile.drop(null_columns, axis=1)"
   ]
  },
  {
   "cell_type": "code",
   "execution_count": 22,
   "metadata": {
    "colab": {
     "base_uri": "https://localhost:8080/",
     "height": 554
    },
    "executionInfo": {
     "elapsed": 408,
     "status": "ok",
     "timestamp": 1733775815640,
     "user": {
      "displayName": "Ounissi Mouadh",
      "userId": "03272851073757140853"
     },
     "user_tz": -60
    },
    "id": "fnkz9VEdD91A",
    "outputId": "40c788ba-85f8-43b3-9cb1-8effeeca8060"
   },
   "outputs": [
    {
     "data": {
      "text/plain": [
       "Titre                 0\n",
       "Prix                  0\n",
       "Fabricant             0\n",
       "Carrosserie           0\n",
       "Energie               0\n",
       "Puissance fiscale     0\n",
       "Boite                 0\n",
       "Transmission          0\n",
       "Couleur               0\n",
       "Kilometrage           0\n",
       "Annee                 0\n",
       "Gouvernorat           0\n",
       "Numero                0\n",
       "Inserée le            0\n",
       "Number of Pictures    0\n",
       "dtype: int64"
      ]
     },
     "execution_count": 22,
     "metadata": {},
     "output_type": "execute_result"
    }
   ],
   "source": [
    "data_automobile.isna().sum()"
   ]
  },
  {
   "cell_type": "code",
   "execution_count": 43,
   "metadata": {
    "colab": {
     "base_uri": "https://localhost:8080/",
     "height": 756
    },
    "executionInfo": {
     "elapsed": 427,
     "status": "ok",
     "timestamp": 1733775805315,
     "user": {
      "displayName": "Ounissi Mouadh",
      "userId": "03272851073757140853"
     },
     "user_tz": -60
    },
    "id": "dEudKBJiD93v",
    "outputId": "7a473aeb-790a-4a2d-b344-2f1024a10da0"
   },
   "outputs": [
    {
     "data": {
      "text/html": [
       "<div>\n",
       "<style scoped>\n",
       "    .dataframe tbody tr th:only-of-type {\n",
       "        vertical-align: middle;\n",
       "    }\n",
       "\n",
       "    .dataframe tbody tr th {\n",
       "        vertical-align: top;\n",
       "    }\n",
       "\n",
       "    .dataframe thead th {\n",
       "        text-align: right;\n",
       "    }\n",
       "</style>\n",
       "<table border=\"1\" class=\"dataframe\">\n",
       "  <thead>\n",
       "    <tr style=\"text-align: right;\">\n",
       "      <th></th>\n",
       "      <th>Prix</th>\n",
       "      <th>Fabricant</th>\n",
       "      <th>Carrosserie</th>\n",
       "      <th>Energie</th>\n",
       "      <th>Puissance fiscale</th>\n",
       "      <th>Boite</th>\n",
       "      <th>Transmission</th>\n",
       "      <th>Kilometrage</th>\n",
       "      <th>Age</th>\n",
       "      <th>Posting Month</th>\n",
       "      <th>Posting Year</th>\n",
       "    </tr>\n",
       "  </thead>\n",
       "  <tbody>\n",
       "    <tr>\n",
       "      <th>0</th>\n",
       "      <td>23900.0</td>\n",
       "      <td>CHEVROLET</td>\n",
       "      <td>Berline</td>\n",
       "      <td>Essence</td>\n",
       "      <td>6.0</td>\n",
       "      <td>Manuelle</td>\n",
       "      <td>Traction</td>\n",
       "      <td>216000.0</td>\n",
       "      <td>17</td>\n",
       "      <td>December</td>\n",
       "      <td>2023</td>\n",
       "    </tr>\n",
       "    <tr>\n",
       "      <th>1</th>\n",
       "      <td>58000.0</td>\n",
       "      <td>MERCEDES</td>\n",
       "      <td>SUV/4x4</td>\n",
       "      <td>Diesel</td>\n",
       "      <td>15.0</td>\n",
       "      <td>Automatique</td>\n",
       "      <td>Traction</td>\n",
       "      <td>266000.0</td>\n",
       "      <td>18</td>\n",
       "      <td>December</td>\n",
       "      <td>2023</td>\n",
       "    </tr>\n",
       "    <tr>\n",
       "      <th>2</th>\n",
       "      <td>85000.0</td>\n",
       "      <td>RENAULT</td>\n",
       "      <td>SUV/4x4</td>\n",
       "      <td>Essence</td>\n",
       "      <td>7.0</td>\n",
       "      <td>Automatique</td>\n",
       "      <td>Traction</td>\n",
       "      <td>85000.0</td>\n",
       "      <td>4</td>\n",
       "      <td>December</td>\n",
       "      <td>2023</td>\n",
       "    </tr>\n",
       "    <tr>\n",
       "      <th>3</th>\n",
       "      <td>55000.0</td>\n",
       "      <td>HYUNDAI</td>\n",
       "      <td>SUV/4x4</td>\n",
       "      <td>Diesel</td>\n",
       "      <td>11.0</td>\n",
       "      <td>Automatique</td>\n",
       "      <td>Traction</td>\n",
       "      <td>309000.0</td>\n",
       "      <td>11</td>\n",
       "      <td>December</td>\n",
       "      <td>2023</td>\n",
       "    </tr>\n",
       "    <tr>\n",
       "      <th>4</th>\n",
       "      <td>30500.0</td>\n",
       "      <td>PEUGEOT</td>\n",
       "      <td>Citadine</td>\n",
       "      <td>Essence</td>\n",
       "      <td>5.0</td>\n",
       "      <td>Manuelle</td>\n",
       "      <td>Traction</td>\n",
       "      <td>97000.0</td>\n",
       "      <td>9</td>\n",
       "      <td>December</td>\n",
       "      <td>2023</td>\n",
       "    </tr>\n",
       "    <tr>\n",
       "      <th>...</th>\n",
       "      <td>...</td>\n",
       "      <td>...</td>\n",
       "      <td>...</td>\n",
       "      <td>...</td>\n",
       "      <td>...</td>\n",
       "      <td>...</td>\n",
       "      <td>...</td>\n",
       "      <td>...</td>\n",
       "      <td>...</td>\n",
       "      <td>...</td>\n",
       "      <td>...</td>\n",
       "    </tr>\n",
       "    <tr>\n",
       "      <th>1651</th>\n",
       "      <td>48500.0</td>\n",
       "      <td>VOLKSWAGEN</td>\n",
       "      <td>Berline</td>\n",
       "      <td>Essence</td>\n",
       "      <td>5.0</td>\n",
       "      <td>Manuelle</td>\n",
       "      <td>Traction</td>\n",
       "      <td>158000.0</td>\n",
       "      <td>12</td>\n",
       "      <td>November</td>\n",
       "      <td>2023</td>\n",
       "    </tr>\n",
       "    <tr>\n",
       "      <th>1652</th>\n",
       "      <td>110000.0</td>\n",
       "      <td>MERCEDES</td>\n",
       "      <td>Berline</td>\n",
       "      <td>Essence</td>\n",
       "      <td>10.0</td>\n",
       "      <td>Automatique</td>\n",
       "      <td>Propulsion</td>\n",
       "      <td>130000.0</td>\n",
       "      <td>10</td>\n",
       "      <td>November</td>\n",
       "      <td>2023</td>\n",
       "    </tr>\n",
       "    <tr>\n",
       "      <th>1653</th>\n",
       "      <td>115000.0</td>\n",
       "      <td>KIA</td>\n",
       "      <td>SUV/4x4</td>\n",
       "      <td>Hybride (diesel)</td>\n",
       "      <td>8.0</td>\n",
       "      <td>Automatique</td>\n",
       "      <td>Traction</td>\n",
       "      <td>75000.0</td>\n",
       "      <td>4</td>\n",
       "      <td>November</td>\n",
       "      <td>2023</td>\n",
       "    </tr>\n",
       "    <tr>\n",
       "      <th>1654</th>\n",
       "      <td>58000.0</td>\n",
       "      <td>MAZDA</td>\n",
       "      <td>Berline</td>\n",
       "      <td>Essence</td>\n",
       "      <td>6.0</td>\n",
       "      <td>Manuelle</td>\n",
       "      <td>Traction</td>\n",
       "      <td>113000.0</td>\n",
       "      <td>7</td>\n",
       "      <td>December</td>\n",
       "      <td>2023</td>\n",
       "    </tr>\n",
       "    <tr>\n",
       "      <th>1655</th>\n",
       "      <td>58000.0</td>\n",
       "      <td>MAZDA</td>\n",
       "      <td>Citadine</td>\n",
       "      <td>Essence</td>\n",
       "      <td>5.0</td>\n",
       "      <td>Manuelle</td>\n",
       "      <td>Propulsion</td>\n",
       "      <td>113000.0</td>\n",
       "      <td>7</td>\n",
       "      <td>December</td>\n",
       "      <td>2023</td>\n",
       "    </tr>\n",
       "  </tbody>\n",
       "</table>\n",
       "<p>1638 rows × 11 columns</p>\n",
       "</div>"
      ],
      "text/plain": [
       "          Prix   Fabricant Carrosserie           Energie  Puissance fiscale  \\\n",
       "0      23900.0   CHEVROLET     Berline           Essence                6.0   \n",
       "1      58000.0    MERCEDES     SUV/4x4            Diesel               15.0   \n",
       "2      85000.0     RENAULT     SUV/4x4           Essence                7.0   \n",
       "3      55000.0     HYUNDAI     SUV/4x4            Diesel               11.0   \n",
       "4      30500.0     PEUGEOT    Citadine           Essence                5.0   \n",
       "...        ...         ...         ...               ...                ...   \n",
       "1651   48500.0  VOLKSWAGEN     Berline           Essence                5.0   \n",
       "1652  110000.0    MERCEDES     Berline           Essence               10.0   \n",
       "1653  115000.0         KIA     SUV/4x4  Hybride (diesel)                8.0   \n",
       "1654   58000.0       MAZDA     Berline           Essence                6.0   \n",
       "1655   58000.0       MAZDA    Citadine           Essence                5.0   \n",
       "\n",
       "            Boite Transmission  Kilometrage  Age Posting Month  Posting Year  \n",
       "0        Manuelle     Traction     216000.0   17      December          2023  \n",
       "1     Automatique     Traction     266000.0   18      December          2023  \n",
       "2     Automatique     Traction      85000.0    4      December          2023  \n",
       "3     Automatique     Traction     309000.0   11      December          2023  \n",
       "4        Manuelle     Traction      97000.0    9      December          2023  \n",
       "...           ...          ...          ...  ...           ...           ...  \n",
       "1651     Manuelle     Traction     158000.0   12      November          2023  \n",
       "1652  Automatique   Propulsion     130000.0   10      November          2023  \n",
       "1653  Automatique     Traction      75000.0    4      November          2023  \n",
       "1654     Manuelle     Traction     113000.0    7      December          2023  \n",
       "1655     Manuelle   Propulsion     113000.0    7      December          2023  \n",
       "\n",
       "[1638 rows x 11 columns]"
      ]
     },
     "execution_count": 43,
     "metadata": {},
     "output_type": "execute_result"
    }
   ],
   "source": [
    "data_automobile.drop('Number of Pictures'\t, axis=1)"
   ]
  },
  {
   "cell_type": "code",
   "execution_count": 24,
   "metadata": {
    "id": "HOZlO_2RD99y"
   },
   "outputs": [],
   "source": [
    "data_automobile = data_automobile.drop_duplicates()"
   ]
  },
  {
   "cell_type": "markdown",
   "metadata": {
    "id": "dNrSFmTzKLMV"
   },
   "source": [
    "drop the colums with many unique values"
   ]
  },
  {
   "cell_type": "code",
   "execution_count": 25,
   "metadata": {
    "colab": {
     "base_uri": "https://localhost:8080/"
    },
    "executionInfo": {
     "elapsed": 405,
     "status": "ok",
     "timestamp": 1733780457307,
     "user": {
      "displayName": "Ounissi Mouadh",
      "userId": "03272851073757140853"
     },
     "user_tz": -60
    },
    "id": "VEmgkdyqJVbF",
    "outputId": "e04b11d8-610b-40bd-a4f1-ca8af0748a7b"
   },
   "outputs": [
    {
     "data": {
      "text/plain": [
       "{'Titre': 978,\n",
       " 'Prix': 363,\n",
       " 'Fabricant': 50,\n",
       " 'Carrosserie': 10,\n",
       " 'Energie': 5,\n",
       " 'Puissance fiscale': 34,\n",
       " 'Boite': 2,\n",
       " 'Transmission': 3,\n",
       " 'Couleur': 14,\n",
       " 'Kilometrage': 401,\n",
       " 'Annee': 253,\n",
       " 'Gouvernorat': 23,\n",
       " 'Numero': 774,\n",
       " 'Inserée le': 38}"
      ]
     },
     "execution_count": 25,
     "metadata": {},
     "output_type": "execute_result"
    }
   ],
   "source": [
    "{column: len(data_automobile[column].unique()) for column in data_automobile.columns if data_automobile.dtypes[column] == 'object'}"
   ]
  },
  {
   "cell_type": "code",
   "execution_count": 26,
   "metadata": {
    "id": "fwnmIlwOQIx-"
   },
   "outputs": [],
   "source": [
    "data_automobile = data_automobile.drop(['Titre','Numero','Couleur'], axis=1)"
   ]
  },
  {
   "cell_type": "code",
   "execution_count": 27,
   "metadata": {
    "colab": {
     "base_uri": "https://localhost:8080/"
    },
    "executionInfo": {
     "elapsed": 598,
     "status": "ok",
     "timestamp": 1733777438726,
     "user": {
      "displayName": "Ounissi Mouadh",
      "userId": "03272851073757140853"
     },
     "user_tz": -60
    },
    "id": "DO55A7ITK3KX",
    "outputId": "cc4d2c83-ed13-4d98-d097-4143b75af3c4"
   },
   "outputs": [
    {
     "name": "stdout",
     "output_type": "stream",
     "text": [
      "The shape of the dataframe is 1656 rows and 12 columns\n"
     ]
    }
   ],
   "source": [
    "shape = data_automobile.shape\n",
    "print(f\"The shape of the dataframe is {shape[0]} rows and {shape[1]} columns\")"
   ]
  },
  {
   "cell_type": "code",
   "execution_count": null,
   "metadata": {
    "id": "m3eHYS0jOjsA"
   },
   "outputs": [],
   "source": [
    "# Extract the numeric part\n",
    "data_automobile['Puissance fiscale'] = data_automobile['Puissance fiscale'].str.extract('(\\d+)')\n",
    "\n",
    "# Convert to integer\n",
    "data_automobile['Puissance fiscale'] = data_automobile['Puissance fiscale'].astype(int)"
   ]
  },
  {
   "cell_type": "code",
   "execution_count": 29,
   "metadata": {
    "id": "x8hzL7U6OmoM"
   },
   "outputs": [],
   "source": [
    "data_automobile['Puissance fiscale'] = data_automobile['Puissance fiscale'].astype(float)"
   ]
  },
  {
   "cell_type": "code",
   "execution_count": 30,
   "metadata": {
    "id": "98_gLTUXOEQf"
   },
   "outputs": [],
   "source": [
    "# Remove spaces and convert to float\n",
    "data_automobile['Prix'] = data_automobile['Prix'].str.replace(' ', '').astype(float)"
   ]
  },
  {
   "cell_type": "code",
   "execution_count": 31,
   "metadata": {
    "id": "doJFsMbHOLW4"
   },
   "outputs": [],
   "source": [
    "data_automobile['Kilometrage'] = (\n",
    "    data_automobile['Kilometrage']\n",
    "    .str.replace(' km', '', regex=False)  # Remove ' km'\n",
    "    .str.replace(' ', '')                # Remove spaces\n",
    "    .astype(float)                       # Convert to float\n",
    ")"
   ]
  },
  {
   "cell_type": "code",
   "execution_count": 32,
   "metadata": {
    "id": "ft9dlPvEP4SL"
   },
   "outputs": [],
   "source": [
    "current_date = datetime.now()\n",
    "\n",
    "data_automobile['Age'] = data_automobile['Annee'].apply(lambda x: (current_date.year - int(x.split('-')[1])) +\n",
    "                                         (current_date.month - int(x.split('-')[0])) / 12)"
   ]
  },
  {
   "cell_type": "code",
   "execution_count": 33,
   "metadata": {
    "id": "gcwJ8e9hQ7L0"
   },
   "outputs": [],
   "source": [
    "data_automobile['Age'] = data_automobile['Age'].round().astype(int)"
   ]
  },
  {
   "cell_type": "code",
   "execution_count": 34,
   "metadata": {
    "id": "VeQhLoJaRd6R"
   },
   "outputs": [],
   "source": [
    "data_automobile = data_automobile.drop('Annee', axis=1)"
   ]
  },
  {
   "cell_type": "code",
   "execution_count": 35,
   "metadata": {
    "id": "G7b5a7BPTrjj"
   },
   "outputs": [],
   "source": [
    "data_automobile[['Day', 'Posting Month', 'Posting Year']] = data_automobile['Inserée le'].str.split('.', expand=True)"
   ]
  },
  {
   "cell_type": "code",
   "execution_count": 36,
   "metadata": {
    "id": "FkIPEV6XT2wv"
   },
   "outputs": [],
   "source": [
    "data_automobile = data_automobile.drop('Day', axis=1)\n",
    "data_automobile['Posting Month'] = data_automobile['Posting Month'].astype(int)\n",
    "data_automobile['Posting Year'] = data_automobile['Posting Year'].astype(int)\n",
    "data_automobile = data_automobile.drop('Inserée le', axis=1)"
   ]
  },
  {
   "cell_type": "code",
   "execution_count": 37,
   "metadata": {
    "id": "hKWwxwNhUMjq"
   },
   "outputs": [],
   "source": [
    "month_names = {\n",
    "    1: 'January',\n",
    "    2: 'February',\n",
    "    3: 'March',\n",
    "    4: 'April',\n",
    "    5: 'May',\n",
    "    6: 'June',\n",
    "    7: 'July',\n",
    "    8: 'August',\n",
    "    9: 'September',\n",
    "    10: 'October',\n",
    "    11: 'November',\n",
    "    12: 'December'\n",
    "}\n",
    "\n",
    "data_automobile['Posting Month'] = data_automobile['Posting Month'].map(month_names)"
   ]
  },
  {
   "cell_type": "code",
   "execution_count": 38,
   "metadata": {
    "id": "mmP-MVDKUj-3"
   },
   "outputs": [],
   "source": [
    "incorrect_prices = (data_automobile['Prix'] < 100) & (data_automobile['Prix'] > 10)\n",
    "\n",
    "data_automobile.loc[incorrect_prices, 'Prix'] *= 1000\n",
    "data_automobile = data_automobile[data_automobile['Prix'].apply(lambda x: len(set(str(x))) != 1) & data_automobile['Prix'].between(10000, 800000)]"
   ]
  },
  {
   "cell_type": "code",
   "execution_count": 39,
   "metadata": {
    "id": "p_UUlV1mWJa5"
   },
   "outputs": [],
   "source": [
    "# Remove rows with negative mileage\n",
    "data_automobile = data_automobile[data_automobile['Kilometrage'] >= 0]\n",
    "\n",
    "# Remove rows where mileage <= 50,000 and the posting year is earlier than 2018\n",
    "data_automobile = data_automobile[~((data_automobile['Kilometrage'] <= 50000) & (data_automobile['Posting Year'] < 2018))]\n",
    "\n",
    "# Keep rows with mileage < 1 (e.g., new cars) or realistic mileage between 1,001 and 650,000\n",
    "data_automobile = data_automobile[(data_automobile['Kilometrage'] < 1) | data_automobile['Kilometrage'].between(1001, 650000)]\n"
   ]
  },
  {
   "cell_type": "code",
   "execution_count": 40,
   "metadata": {
    "id": "SiExZGt2ZH3f"
   },
   "outputs": [],
   "source": [
    "data_automobile['Fabricant'] = data_automobile['Fabricant'].str.upper()\n"
   ]
  },
  {
   "cell_type": "code",
   "execution_count": 42,
   "metadata": {},
   "outputs": [],
   "source": [
    "data_automobile = data_automobile.drop('Gouvernorat', axis=1)"
   ]
  },
  {
   "cell_type": "code",
   "execution_count": 44,
   "metadata": {},
   "outputs": [
    {
     "data": {
      "text/html": [
       "<div>\n",
       "<style scoped>\n",
       "    .dataframe tbody tr th:only-of-type {\n",
       "        vertical-align: middle;\n",
       "    }\n",
       "\n",
       "    .dataframe tbody tr th {\n",
       "        vertical-align: top;\n",
       "    }\n",
       "\n",
       "    .dataframe thead th {\n",
       "        text-align: right;\n",
       "    }\n",
       "</style>\n",
       "<table border=\"1\" class=\"dataframe\">\n",
       "  <thead>\n",
       "    <tr style=\"text-align: right;\">\n",
       "      <th></th>\n",
       "      <th>Prix</th>\n",
       "      <th>Fabricant</th>\n",
       "      <th>Carrosserie</th>\n",
       "      <th>Energie</th>\n",
       "      <th>Puissance fiscale</th>\n",
       "      <th>Boite</th>\n",
       "      <th>Transmission</th>\n",
       "      <th>Kilometrage</th>\n",
       "      <th>Number of Pictures</th>\n",
       "      <th>Age</th>\n",
       "      <th>Posting Month</th>\n",
       "      <th>Posting Year</th>\n",
       "    </tr>\n",
       "  </thead>\n",
       "  <tbody>\n",
       "    <tr>\n",
       "      <th>0</th>\n",
       "      <td>23900.0</td>\n",
       "      <td>CHEVROLET</td>\n",
       "      <td>Berline</td>\n",
       "      <td>Essence</td>\n",
       "      <td>6.0</td>\n",
       "      <td>Manuelle</td>\n",
       "      <td>Traction</td>\n",
       "      <td>216000.0</td>\n",
       "      <td>12</td>\n",
       "      <td>17</td>\n",
       "      <td>December</td>\n",
       "      <td>2023</td>\n",
       "    </tr>\n",
       "    <tr>\n",
       "      <th>1</th>\n",
       "      <td>58000.0</td>\n",
       "      <td>MERCEDES</td>\n",
       "      <td>SUV/4x4</td>\n",
       "      <td>Diesel</td>\n",
       "      <td>15.0</td>\n",
       "      <td>Automatique</td>\n",
       "      <td>Traction</td>\n",
       "      <td>266000.0</td>\n",
       "      <td>12</td>\n",
       "      <td>18</td>\n",
       "      <td>December</td>\n",
       "      <td>2023</td>\n",
       "    </tr>\n",
       "    <tr>\n",
       "      <th>2</th>\n",
       "      <td>85000.0</td>\n",
       "      <td>RENAULT</td>\n",
       "      <td>SUV/4x4</td>\n",
       "      <td>Essence</td>\n",
       "      <td>7.0</td>\n",
       "      <td>Automatique</td>\n",
       "      <td>Traction</td>\n",
       "      <td>85000.0</td>\n",
       "      <td>12</td>\n",
       "      <td>4</td>\n",
       "      <td>December</td>\n",
       "      <td>2023</td>\n",
       "    </tr>\n",
       "    <tr>\n",
       "      <th>3</th>\n",
       "      <td>55000.0</td>\n",
       "      <td>HYUNDAI</td>\n",
       "      <td>SUV/4x4</td>\n",
       "      <td>Diesel</td>\n",
       "      <td>11.0</td>\n",
       "      <td>Automatique</td>\n",
       "      <td>Traction</td>\n",
       "      <td>309000.0</td>\n",
       "      <td>12</td>\n",
       "      <td>11</td>\n",
       "      <td>December</td>\n",
       "      <td>2023</td>\n",
       "    </tr>\n",
       "    <tr>\n",
       "      <th>4</th>\n",
       "      <td>30500.0</td>\n",
       "      <td>PEUGEOT</td>\n",
       "      <td>Citadine</td>\n",
       "      <td>Essence</td>\n",
       "      <td>5.0</td>\n",
       "      <td>Manuelle</td>\n",
       "      <td>Traction</td>\n",
       "      <td>97000.0</td>\n",
       "      <td>12</td>\n",
       "      <td>9</td>\n",
       "      <td>December</td>\n",
       "      <td>2023</td>\n",
       "    </tr>\n",
       "    <tr>\n",
       "      <th>...</th>\n",
       "      <td>...</td>\n",
       "      <td>...</td>\n",
       "      <td>...</td>\n",
       "      <td>...</td>\n",
       "      <td>...</td>\n",
       "      <td>...</td>\n",
       "      <td>...</td>\n",
       "      <td>...</td>\n",
       "      <td>...</td>\n",
       "      <td>...</td>\n",
       "      <td>...</td>\n",
       "      <td>...</td>\n",
       "    </tr>\n",
       "    <tr>\n",
       "      <th>1651</th>\n",
       "      <td>48500.0</td>\n",
       "      <td>VOLKSWAGEN</td>\n",
       "      <td>Berline</td>\n",
       "      <td>Essence</td>\n",
       "      <td>5.0</td>\n",
       "      <td>Manuelle</td>\n",
       "      <td>Traction</td>\n",
       "      <td>158000.0</td>\n",
       "      <td>12</td>\n",
       "      <td>12</td>\n",
       "      <td>November</td>\n",
       "      <td>2023</td>\n",
       "    </tr>\n",
       "    <tr>\n",
       "      <th>1652</th>\n",
       "      <td>110000.0</td>\n",
       "      <td>MERCEDES</td>\n",
       "      <td>Berline</td>\n",
       "      <td>Essence</td>\n",
       "      <td>10.0</td>\n",
       "      <td>Automatique</td>\n",
       "      <td>Propulsion</td>\n",
       "      <td>130000.0</td>\n",
       "      <td>4</td>\n",
       "      <td>10</td>\n",
       "      <td>November</td>\n",
       "      <td>2023</td>\n",
       "    </tr>\n",
       "    <tr>\n",
       "      <th>1653</th>\n",
       "      <td>115000.0</td>\n",
       "      <td>KIA</td>\n",
       "      <td>SUV/4x4</td>\n",
       "      <td>Hybride (diesel)</td>\n",
       "      <td>8.0</td>\n",
       "      <td>Automatique</td>\n",
       "      <td>Traction</td>\n",
       "      <td>75000.0</td>\n",
       "      <td>12</td>\n",
       "      <td>4</td>\n",
       "      <td>November</td>\n",
       "      <td>2023</td>\n",
       "    </tr>\n",
       "    <tr>\n",
       "      <th>1654</th>\n",
       "      <td>58000.0</td>\n",
       "      <td>MAZDA</td>\n",
       "      <td>Berline</td>\n",
       "      <td>Essence</td>\n",
       "      <td>6.0</td>\n",
       "      <td>Manuelle</td>\n",
       "      <td>Traction</td>\n",
       "      <td>113000.0</td>\n",
       "      <td>11</td>\n",
       "      <td>7</td>\n",
       "      <td>December</td>\n",
       "      <td>2023</td>\n",
       "    </tr>\n",
       "    <tr>\n",
       "      <th>1655</th>\n",
       "      <td>58000.0</td>\n",
       "      <td>MAZDA</td>\n",
       "      <td>Citadine</td>\n",
       "      <td>Essence</td>\n",
       "      <td>5.0</td>\n",
       "      <td>Manuelle</td>\n",
       "      <td>Propulsion</td>\n",
       "      <td>113000.0</td>\n",
       "      <td>9</td>\n",
       "      <td>7</td>\n",
       "      <td>December</td>\n",
       "      <td>2023</td>\n",
       "    </tr>\n",
       "  </tbody>\n",
       "</table>\n",
       "<p>1638 rows × 12 columns</p>\n",
       "</div>"
      ],
      "text/plain": [
       "          Prix   Fabricant Carrosserie           Energie  Puissance fiscale  \\\n",
       "0      23900.0   CHEVROLET     Berline           Essence                6.0   \n",
       "1      58000.0    MERCEDES     SUV/4x4            Diesel               15.0   \n",
       "2      85000.0     RENAULT     SUV/4x4           Essence                7.0   \n",
       "3      55000.0     HYUNDAI     SUV/4x4            Diesel               11.0   \n",
       "4      30500.0     PEUGEOT    Citadine           Essence                5.0   \n",
       "...        ...         ...         ...               ...                ...   \n",
       "1651   48500.0  VOLKSWAGEN     Berline           Essence                5.0   \n",
       "1652  110000.0    MERCEDES     Berline           Essence               10.0   \n",
       "1653  115000.0         KIA     SUV/4x4  Hybride (diesel)                8.0   \n",
       "1654   58000.0       MAZDA     Berline           Essence                6.0   \n",
       "1655   58000.0       MAZDA    Citadine           Essence                5.0   \n",
       "\n",
       "            Boite Transmission  Kilometrage  Number of Pictures  Age  \\\n",
       "0        Manuelle     Traction     216000.0                  12   17   \n",
       "1     Automatique     Traction     266000.0                  12   18   \n",
       "2     Automatique     Traction      85000.0                  12    4   \n",
       "3     Automatique     Traction     309000.0                  12   11   \n",
       "4        Manuelle     Traction      97000.0                  12    9   \n",
       "...           ...          ...          ...                 ...  ...   \n",
       "1651     Manuelle     Traction     158000.0                  12   12   \n",
       "1652  Automatique   Propulsion     130000.0                   4   10   \n",
       "1653  Automatique     Traction      75000.0                  12    4   \n",
       "1654     Manuelle     Traction     113000.0                  11    7   \n",
       "1655     Manuelle   Propulsion     113000.0                   9    7   \n",
       "\n",
       "     Posting Month  Posting Year  \n",
       "0         December          2023  \n",
       "1         December          2023  \n",
       "2         December          2023  \n",
       "3         December          2023  \n",
       "4         December          2023  \n",
       "...            ...           ...  \n",
       "1651      November          2023  \n",
       "1652      November          2023  \n",
       "1653      November          2023  \n",
       "1654      December          2023  \n",
       "1655      December          2023  \n",
       "\n",
       "[1638 rows x 12 columns]"
      ]
     },
     "execution_count": 44,
     "metadata": {},
     "output_type": "execute_result"
    }
   ],
   "source": [
    "data_automobile"
   ]
  }
 ],
 "metadata": {
  "colab": {
   "authorship_tag": "ABX9TyNqE4pTM/PBxi1o1Vru3uAw",
   "provenance": []
  },
  "kernelspec": {
   "display_name": ".venv",
   "language": "python",
   "name": "python3"
  },
  "language_info": {
   "name": "python",
   "version": "3.12.0"
  }
 },
 "nbformat": 4,
 "nbformat_minor": 0
}

{
 "cells": [
  {
   "cell_type": "code",
   "execution_count": 1,
   "metadata": {
    "executionInfo": {
     "elapsed": 434,
     "status": "ok",
     "timestamp": 1733778605302,
     "user": {
      "displayName": "Ounissi Mouadh",
      "userId": "03272851073757140853"
     },
     "user_tz": -60
    },
    "id": "7sYP3N6CzHga"
   },
   "outputs": [],
   "source": [
    "import pandas as pd\n",
    "data = pd.read_csv(\"../Model/df_model.csv\")\n",
    "backup_data = pd.read_csv(\"../Model/df_model.csv\")"
   ]
  },
  {
   "cell_type": "code",
   "execution_count": 2,
   "metadata": {},
   "outputs": [
    {
     "name": "stdout",
     "output_type": "stream",
     "text": [
      "Price                0\n",
      "Manufacturer         0\n",
      "Model                0\n",
      "Horse Power          0\n",
      "Mileage              0\n",
      "Transmission         0\n",
      "Fuel                 0\n",
      "Posting Month        0\n",
      "Posting Year         0\n",
      "Age                  0\n",
      "country_of_origin    0\n",
      "dtype: int64\n"
     ]
    }
   ],
   "source": [
    "print(data.isnull().sum())"
   ]
  },
  {
   "cell_type": "code",
   "execution_count": 5,
   "metadata": {},
   "outputs": [
    {
     "name": "stdout",
     "output_type": "stream",
     "text": [
      "['Essence' 'Diesel' 'Hybrid']\n"
     ]
    }
   ],
   "source": [
    "print(data[\"Fuel\"].unique())"
   ]
  },
  {
   "cell_type": "code",
   "execution_count": 4,
   "metadata": {},
   "outputs": [],
   "source": [
    "data[\"Fuel\"] = data[\"Fuel\"].replace({\n",
    "    \"Gasoline\": \"Essence\"\n",
    "})"
   ]
  },
  {
   "cell_type": "code",
   "execution_count": 6,
   "metadata": {},
   "outputs": [
    {
     "name": "stdout",
     "output_type": "stream",
     "text": [
      "['Automatic' 'Manual']\n"
     ]
    }
   ],
   "source": [
    "print(data[\"Transmission\"].unique())"
   ]
  },
  {
   "cell_type": "markdown",
   "metadata": {},
   "source": [
    "Next we want to check for rows with unrealistic mileage (0 km) because we are working with only used cars, so the 0 km cars are not new that's why we will replace the 0 values with the average milage for used cars according to our dataset"
   ]
  },
  {
   "cell_type": "code",
   "execution_count": 8,
   "metadata": {},
   "outputs": [
    {
     "name": "stdout",
     "output_type": "stream",
     "text": [
      "         Price Manufacturer                          Model  Horse Power  \\\n",
      "115   190000.0        CUPRA                      FORMENTOR         11.0   \n",
      "158   358000.0   LAND ROVER   RANGE ROVER EVOQUE R-DYNAMIC          9.0   \n",
      "159   748000.0   LAND ROVER  RANGE ROVER SPORT HSE-DYNAMIC         28.0   \n",
      "634    47000.0       TOYOTA                           AYGO          5.0   \n",
      "1267   34000.0          KIA                        PICANTO          4.0   \n",
      "1345   74800.0          KIA                            RIO          5.0   \n",
      "1749   63800.0        SKODA                          FABIA          4.0   \n",
      "4493   65000.0   VOLKSWAGEN                           POLO          6.0   \n",
      "4504   63799.0   VOLKSWAGEN                           POLO          5.0   \n",
      "4508   81000.0   VOLKSWAGEN                      PASSAT CC          7.0   \n",
      "4560   74500.0   VOLKSWAGEN                         TIGUAN          6.0   \n",
      "5140  450000.0     MERCEDES                  GLC 200 COUPE         11.0   \n",
      "5151  440000.0     MERCEDES                  GLC 200 COUPE         11.0   \n",
      "5250  590000.0     MERCEDES                  GLE COUPE AMG         12.0   \n",
      "\n",
      "      Mileage Transmission     Fuel Posting Month  Posting Year  Age  \\\n",
      "115       0.0    Automatic  Essence      February          2024    1   \n",
      "158       0.0    Automatic   Diesel      February          2024    0   \n",
      "159       0.0    Automatic   Hybrid      February          2024    0   \n",
      "634       0.0       Manual  Essence      November          2023    1   \n",
      "1267      0.0       Manual  Essence      November          2023    1   \n",
      "1345      0.0       Manual  Essence      November          2023    1   \n",
      "1749      0.0       Manual  Essence      November          2023    1   \n",
      "4493      0.0       Manual  Essence      November          2023    1   \n",
      "4504      0.0       Manual  Essence      November          2023    1   \n",
      "4508      0.0    Automatic  Essence      November          2023    1   \n",
      "4560      0.0       Manual  Essence      November          2023    1   \n",
      "5140      0.0    Automatic   Hybrid      February          2024    0   \n",
      "5151      0.0    Automatic   Hybrid      February          2024    1   \n",
      "5250      0.0    Automatic   Diesel       January          2024    0   \n",
      "\n",
      "     country_of_origin  \n",
      "115              Spain  \n",
      "158     United Kingdom  \n",
      "159     United Kingdom  \n",
      "634              Japan  \n",
      "1267       South Korea  \n",
      "1345       South Korea  \n",
      "1749    Czech Republic  \n",
      "4493           Germany  \n",
      "4504           Germany  \n",
      "4508           Germany  \n",
      "4560           Germany  \n",
      "5140           Germany  \n",
      "5151           Germany  \n",
      "5250           Germany  \n"
     ]
    }
   ],
   "source": [
    "print(data[data[\"Mileage\"] == 0])"
   ]
  },
  {
   "cell_type": "code",
   "execution_count": 9,
   "metadata": {},
   "outputs": [],
   "source": [
    "median_mileage = data.loc[data[\"Mileage\"] > 0, \"Mileage\"].median()\n",
    "data[\"Mileage\"] = data[\"Mileage\"].replace(0, median_mileage)"
   ]
  },
  {
   "cell_type": "code",
   "execution_count": 11,
   "metadata": {},
   "outputs": [
    {
     "name": "stdout",
     "output_type": "stream",
     "text": [
      "Empty DataFrame\n",
      "Columns: [Price, Manufacturer, Model, Horse Power, Mileage, Transmission, Fuel, Posting Month, Posting Year, Age, country_of_origin]\n",
      "Index: []\n"
     ]
    }
   ],
   "source": [
    "print(data[data[\"Mileage\"] == 0]) "
   ]
  },
  {
   "cell_type": "code",
   "execution_count": 12,
   "metadata": {},
   "outputs": [
    {
     "name": "stdout",
     "output_type": "stream",
     "text": [
      "Number of rows before dropping duplicates: 5345\n"
     ]
    }
   ],
   "source": [
    "print(f\"Number of rows before dropping duplicates: {len(data)}\")"
   ]
  },
  {
   "cell_type": "code",
   "execution_count": 14,
   "metadata": {},
   "outputs": [
    {
     "name": "stdout",
     "output_type": "stream",
     "text": [
      "Number of rows after dropping duplicates: 5128\n"
     ]
    }
   ],
   "source": [
    "data = data.drop_duplicates()\n",
    "print(f\"Number of rows after dropping duplicates: {len(data)}\")"
   ]
  },
  {
   "cell_type": "code",
   "execution_count": 25,
   "metadata": {},
   "outputs": [
    {
     "name": "stdout",
     "output_type": "stream",
     "text": [
      "     Price Manufacturer    Model  Horse Power   Mileage Transmission     Fuel  \\\n",
      "0  75000.0     INFINITI     EX35         20.0  143000.0    Automatic  Essence   \n",
      "1  69000.0        IVECO    DAILY         11.0   87000.0       Manual   Diesel   \n",
      "2  62000.0        VOLVO     XC60         13.0  190000.0    Automatic  Essence   \n",
      "3  69000.0           AC    SEVEN          7.0   59000.0    Automatic  Essence   \n",
      "4  29000.0       LANCIA  YPSILON          4.0  125000.0       Manual  Essence   \n",
      "\n",
      "  Posting Month  Posting Year  Age country_of_origin  \n",
      "0      November          2023   15             Japan  \n",
      "1      November          2023    8             Italy  \n",
      "2      November          2023   13            Sweden  \n",
      "3      November          2023    4    United Kingdom  \n",
      "4      November          2023   10             Italy  \n"
     ]
    }
   ],
   "source": [
    "print(data.head())"
   ]
  },
  {
   "cell_type": "code",
   "execution_count": 27,
   "metadata": {},
   "outputs": [
    {
     "name": "stdout",
     "output_type": "stream",
     "text": [
      "['INFINITI' 'IVECO' 'VOLVO' 'AC' 'LANCIA' 'GEELY' 'ALFA ROMEO' 'DS'\n",
      " 'DONGFENG' 'BYD' 'FOTON' 'DFSK' 'WALLYSCAR' 'LADA' 'TATA' 'BAIC'\n",
      " 'GREAT WALL' 'HAVAL' 'CUPRA' 'MG' 'CHRYSLER' 'LAND ROVER' 'JAGUAR'\n",
      " 'SSANGYONG' 'NISSAN' 'JEEP' 'PORSCHE' 'MINI' 'CHEVROLET' 'TOYOTA'\n",
      " 'CITROEN' 'MITSUBISHI' 'KIA' 'DACIA' 'MAHINDRA' 'HONDA' 'SKODA' 'AUDI'\n",
      " 'PEUGEOT' 'CHERY' 'SEAT' 'BMW' 'FIAT' 'FORD' 'HYUNDAI' 'MAZDA' 'RENAULT'\n",
      " 'SUZUKI' 'VOLKSWAGEN' 'MERCEDES']\n"
     ]
    }
   ],
   "source": [
    "print(data[\"Manufacturer\"].unique())\n"
   ]
  },
  {
   "cell_type": "code",
   "execution_count": 28,
   "metadata": {},
   "outputs": [],
   "source": [
    "data[\"price_per_km\"] = data[\"Price\"] / data[\"Mileage\"]\n",
    "data[\"price_per_horsepower\"] = data[\"Price\"] / data[\"Horse Power\"]"
   ]
  },
  {
   "cell_type": "code",
   "execution_count": 29,
   "metadata": {},
   "outputs": [
    {
     "data": {
      "text/html": [
       "<div>\n",
       "<style scoped>\n",
       "    .dataframe tbody tr th:only-of-type {\n",
       "        vertical-align: middle;\n",
       "    }\n",
       "\n",
       "    .dataframe tbody tr th {\n",
       "        vertical-align: top;\n",
       "    }\n",
       "\n",
       "    .dataframe thead th {\n",
       "        text-align: right;\n",
       "    }\n",
       "</style>\n",
       "<table border=\"1\" class=\"dataframe\">\n",
       "  <thead>\n",
       "    <tr style=\"text-align: right;\">\n",
       "      <th></th>\n",
       "      <th>Price</th>\n",
       "      <th>Manufacturer</th>\n",
       "      <th>Model</th>\n",
       "      <th>Horse Power</th>\n",
       "      <th>Mileage</th>\n",
       "      <th>Transmission</th>\n",
       "      <th>Fuel</th>\n",
       "      <th>Posting Month</th>\n",
       "      <th>Posting Year</th>\n",
       "      <th>Age</th>\n",
       "      <th>country_of_origin</th>\n",
       "      <th>price_per_km</th>\n",
       "      <th>price_per_horsepower</th>\n",
       "    </tr>\n",
       "  </thead>\n",
       "  <tbody>\n",
       "    <tr>\n",
       "      <th>0</th>\n",
       "      <td>75000.0</td>\n",
       "      <td>INFINITI</td>\n",
       "      <td>EX35</td>\n",
       "      <td>20.0</td>\n",
       "      <td>143000.0</td>\n",
       "      <td>Automatic</td>\n",
       "      <td>Essence</td>\n",
       "      <td>November</td>\n",
       "      <td>2023</td>\n",
       "      <td>15</td>\n",
       "      <td>Japan</td>\n",
       "      <td>0.524476</td>\n",
       "      <td>3750.000000</td>\n",
       "    </tr>\n",
       "    <tr>\n",
       "      <th>1</th>\n",
       "      <td>69000.0</td>\n",
       "      <td>IVECO</td>\n",
       "      <td>DAILY</td>\n",
       "      <td>11.0</td>\n",
       "      <td>87000.0</td>\n",
       "      <td>Manual</td>\n",
       "      <td>Diesel</td>\n",
       "      <td>November</td>\n",
       "      <td>2023</td>\n",
       "      <td>8</td>\n",
       "      <td>Italy</td>\n",
       "      <td>0.793103</td>\n",
       "      <td>6272.727273</td>\n",
       "    </tr>\n",
       "    <tr>\n",
       "      <th>2</th>\n",
       "      <td>62000.0</td>\n",
       "      <td>VOLVO</td>\n",
       "      <td>XC60</td>\n",
       "      <td>13.0</td>\n",
       "      <td>190000.0</td>\n",
       "      <td>Automatic</td>\n",
       "      <td>Essence</td>\n",
       "      <td>November</td>\n",
       "      <td>2023</td>\n",
       "      <td>13</td>\n",
       "      <td>Sweden</td>\n",
       "      <td>0.326316</td>\n",
       "      <td>4769.230769</td>\n",
       "    </tr>\n",
       "    <tr>\n",
       "      <th>3</th>\n",
       "      <td>69000.0</td>\n",
       "      <td>AC</td>\n",
       "      <td>SEVEN</td>\n",
       "      <td>7.0</td>\n",
       "      <td>59000.0</td>\n",
       "      <td>Automatic</td>\n",
       "      <td>Essence</td>\n",
       "      <td>November</td>\n",
       "      <td>2023</td>\n",
       "      <td>4</td>\n",
       "      <td>United Kingdom</td>\n",
       "      <td>1.169492</td>\n",
       "      <td>9857.142857</td>\n",
       "    </tr>\n",
       "    <tr>\n",
       "      <th>4</th>\n",
       "      <td>29000.0</td>\n",
       "      <td>LANCIA</td>\n",
       "      <td>YPSILON</td>\n",
       "      <td>4.0</td>\n",
       "      <td>125000.0</td>\n",
       "      <td>Manual</td>\n",
       "      <td>Essence</td>\n",
       "      <td>November</td>\n",
       "      <td>2023</td>\n",
       "      <td>10</td>\n",
       "      <td>Italy</td>\n",
       "      <td>0.232000</td>\n",
       "      <td>7250.000000</td>\n",
       "    </tr>\n",
       "  </tbody>\n",
       "</table>\n",
       "</div>"
      ],
      "text/plain": [
       "     Price Manufacturer    Model  Horse Power   Mileage Transmission     Fuel  \\\n",
       "0  75000.0     INFINITI     EX35         20.0  143000.0    Automatic  Essence   \n",
       "1  69000.0        IVECO    DAILY         11.0   87000.0       Manual   Diesel   \n",
       "2  62000.0        VOLVO     XC60         13.0  190000.0    Automatic  Essence   \n",
       "3  69000.0           AC    SEVEN          7.0   59000.0    Automatic  Essence   \n",
       "4  29000.0       LANCIA  YPSILON          4.0  125000.0       Manual  Essence   \n",
       "\n",
       "  Posting Month  Posting Year  Age country_of_origin  price_per_km  \\\n",
       "0      November          2023   15             Japan      0.524476   \n",
       "1      November          2023    8             Italy      0.793103   \n",
       "2      November          2023   13            Sweden      0.326316   \n",
       "3      November          2023    4    United Kingdom      1.169492   \n",
       "4      November          2023   10             Italy      0.232000   \n",
       "\n",
       "   price_per_horsepower  \n",
       "0           3750.000000  \n",
       "1           6272.727273  \n",
       "2           4769.230769  \n",
       "3           9857.142857  \n",
       "4           7250.000000  "
      ]
     },
     "execution_count": 29,
     "metadata": {},
     "output_type": "execute_result"
    }
   ],
   "source": [
    "data.head()"
   ]
  },
  {
   "cell_type": "code",
   "execution_count": 30,
   "metadata": {},
   "outputs": [
    {
     "name": "stdout",
     "output_type": "stream",
     "text": [
      "               Price  Horse Power        Mileage  Posting Year          Age  \\\n",
      "count    5128.000000  5128.000000    5128.000000   5128.000000  5128.000000   \n",
      "mean    51090.844189     6.723284  158303.039002   2023.221139    10.775741   \n",
      "std     49092.403148     3.491983   83271.481696      0.517912     6.878875   \n",
      "min      4000.000000     1.000000     900.000000   2022.000000     0.000000   \n",
      "25%     25000.000000     5.000000   94807.500000   2023.000000     6.000000   \n",
      "50%     38000.000000     6.000000  150000.000000   2023.000000     9.000000   \n",
      "75%     60000.000000     7.000000  208000.000000   2024.000000    14.000000   \n",
      "max    748000.000000    65.000000  600000.000000   2024.000000    44.000000   \n",
      "\n",
      "       price_per_km  price_per_horsepower  \n",
      "count   5128.000000           5128.000000  \n",
      "mean       1.091355           7457.340127  \n",
      "std        7.998106           4637.238419  \n",
      "min        0.012341            209.523810  \n",
      "25%        0.130435           4375.000000  \n",
      "50%        0.276217           6500.000000  \n",
      "75%        0.568182           9400.000000  \n",
      "max      285.000000          65000.000000  \n"
     ]
    }
   ],
   "source": [
    "numerical_stats = data.describe()\n",
    "print(numerical_stats)"
   ]
  },
  {
   "cell_type": "code",
   "execution_count": 31,
   "metadata": {},
   "outputs": [
    {
     "name": "stdout",
     "output_type": "stream",
     "text": [
      "Value counts for Model column:\n",
      "Model\n",
      "CLIO                  212\n",
      "POLO                  207\n",
      "FIESTA                110\n",
      "RIO                   109\n",
      "PASSAT                 94\n",
      "                     ... \n",
      "C 180 AVANTGARDE        1\n",
      "E COUPE AVANTGARDE      1\n",
      "A CITADINE              1\n",
      "220 KIT AMG             1\n",
      "C AMG SPORT PACK        1\n",
      "Name: count, Length: 729, dtype: int64\n",
      "\n",
      "\n",
      "Value counts for Manufacturer column:\n",
      "Manufacturer\n",
      "PEUGEOT       632\n",
      "VOLKSWAGEN    557\n",
      "CITROEN       471\n",
      "RENAULT       419\n",
      "MERCEDES      369\n",
      "KIA           341\n",
      "BMW           283\n",
      "FIAT          256\n",
      "FORD          219\n",
      "AUDI          179\n",
      "SEAT          163\n",
      "NISSAN        135\n",
      "HYUNDAI       126\n",
      "TOYOTA         92\n",
      "DACIA          81\n",
      "MAZDA          77\n",
      "SSANGYONG      73\n",
      "LAND ROVER     66\n",
      "CHERY          66\n",
      "CHEVROLET      60\n",
      "SUZUKI         59\n",
      "SKODA          47\n",
      "PORSCHE        44\n",
      "MINI           41\n",
      "MAHINDRA       37\n",
      "HAVAL          29\n",
      "JEEP           27\n",
      "MG             27\n",
      "MITSUBISHI     26\n",
      "HONDA          22\n",
      "ALFA ROMEO     20\n",
      "JAGUAR         16\n",
      "GEELY          10\n",
      "DS              8\n",
      "DONGFENG        8\n",
      "IVECO           6\n",
      "VOLVO           5\n",
      "GREAT WALL      5\n",
      "CUPRA           4\n",
      "INFINITI        4\n",
      "AC              3\n",
      "BAIC            3\n",
      "DFSK            2\n",
      "LADA            2\n",
      "LANCIA          2\n",
      "TATA            2\n",
      "FOTON           1\n",
      "WALLYSCAR       1\n",
      "BYD             1\n",
      "CHRYSLER        1\n",
      "Name: count, dtype: int64\n",
      "\n",
      "\n",
      "Value counts for Fuel column:\n",
      "Fuel\n",
      "Essence    3800\n",
      "Diesel     1263\n",
      "Hybrid       65\n",
      "Name: count, dtype: int64\n",
      "\n",
      "\n"
     ]
    }
   ],
   "source": [
    "categorical_columns = [\"Model\", \"Manufacturer\", \"Fuel\"]\n",
    "\n",
    "for col in categorical_columns:\n",
    "    print(f\"Value counts for {col} column:\")\n",
    "    print(data[col].value_counts())\n",
    "    print(\"\\n\")"
   ]
  },
  {
   "cell_type": "markdown",
   "metadata": {},
   "source": [
    "Correlation Matrix for Numerical Features to understand how the numerical features correlate with each other\n",
    "\n"
   ]
  },
  {
   "cell_type": "code",
   "execution_count": 32,
   "metadata": {},
   "outputs": [
    {
     "name": "stdout",
     "output_type": "stream",
     "text": [
      "                         Price  Horse Power   Mileage  Posting Year       Age  \\\n",
      "Price                 1.000000     0.502346 -0.404175      0.470554 -0.409309   \n",
      "Horse Power           0.502346     1.000000  0.001875      0.269488  0.044698   \n",
      "Mileage              -0.404175     0.001875  1.000000     -0.277834  0.682189   \n",
      "Posting Year          0.470554     0.269488 -0.277834      1.000000 -0.276074   \n",
      "Age                  -0.409309     0.044698  0.682189     -0.276074  1.000000   \n",
      "price_per_km          0.315742     0.098747 -0.182725      0.135426 -0.135322   \n",
      "price_per_horsepower  0.789349     0.058865 -0.568190      0.432367 -0.617695   \n",
      "\n",
      "                      price_per_km  price_per_horsepower  \n",
      "Price                     0.315742              0.789349  \n",
      "Horse Power               0.098747              0.058865  \n",
      "Mileage                  -0.182725             -0.568190  \n",
      "Posting Year              0.135426              0.432367  \n",
      "Age                      -0.135322             -0.617695  \n",
      "price_per_km              1.000000              0.271362  \n",
      "price_per_horsepower      0.271362              1.000000  \n"
     ]
    }
   ],
   "source": [
    "correlation_matrix = data.corr(numeric_only=True)\n",
    "\n",
    "print(correlation_matrix)"
   ]
  },
  {
   "cell_type": "code",
   "execution_count": 33,
   "metadata": {},
   "outputs": [],
   "source": [
    "data.to_csv(\"../Model/cleaned_dataset.csv\", index=False)"
   ]
  },
  {
   "cell_type": "markdown",
   "metadata": {},
   "source": [
    "We will use the Min-Max Normalization four our numerical features"
   ]
  },
  {
   "cell_type": "code",
   "execution_count": 34,
   "metadata": {},
   "outputs": [],
   "source": [
    "from sklearn.preprocessing import MinMaxScaler\n",
    "\n",
    "scaler = MinMaxScaler()\n",
    "data[[\"Price\", \"Mileage\", \"Horse Power\"]] = scaler.fit_transform(data[[\"Price\", \"Mileage\", \"Horse Power\"]])"
   ]
  },
  {
   "cell_type": "code",
   "execution_count": 35,
   "metadata": {},
   "outputs": [
    {
     "name": "stdout",
     "output_type": "stream",
     "text": [
      "      Price Manufacturer    Model  Horse Power   Mileage Transmission  \\\n",
      "0  0.095430     INFINITI     EX35     0.296875  0.237189    Automatic   \n",
      "1  0.087366        IVECO    DAILY     0.156250  0.143716       Manual   \n",
      "2  0.077957        VOLVO     XC60     0.187500  0.315640    Automatic   \n",
      "3  0.087366           AC    SEVEN     0.093750  0.096979    Automatic   \n",
      "4  0.033602       LANCIA  YPSILON     0.046875  0.207144       Manual   \n",
      "\n",
      "      Fuel Posting Month  Posting Year  Age country_of_origin  price_per_km  \\\n",
      "0  Essence      November          2023   15             Japan      0.524476   \n",
      "1   Diesel      November          2023    8             Italy      0.793103   \n",
      "2  Essence      November          2023   13            Sweden      0.326316   \n",
      "3  Essence      November          2023    4    United Kingdom      1.169492   \n",
      "4  Essence      November          2023   10             Italy      0.232000   \n",
      "\n",
      "   price_per_horsepower  \n",
      "0           3750.000000  \n",
      "1           6272.727273  \n",
      "2           4769.230769  \n",
      "3           9857.142857  \n",
      "4           7250.000000  \n"
     ]
    }
   ],
   "source": [
    "print(data.head())"
   ]
  },
  {
   "cell_type": "code",
   "execution_count": 36,
   "metadata": {},
   "outputs": [],
   "source": [
    "data.to_csv(\"../Model/normalized_dataset.csv\", index=False)"
   ]
  }
 ],
 "metadata": {
  "colab": {
   "authorship_tag": "ABX9TyN22ekF9w5pPnjcrlrmgHb2",
   "provenance": []
  },
  "kernelspec": {
   "display_name": ".venv",
   "language": "python",
   "name": "python3"
  },
  "language_info": {
   "codemirror_mode": {
    "name": "ipython",
    "version": 3
   },
   "file_extension": ".py",
   "mimetype": "text/x-python",
   "name": "python",
   "nbconvert_exporter": "python",
   "pygments_lexer": "ipython3",
   "version": "3.12.0"
  }
 },
 "nbformat": 4,
 "nbformat_minor": 0
}
